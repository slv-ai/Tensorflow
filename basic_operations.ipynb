{
  "nbformat": 4,
  "nbformat_minor": 0,
  "metadata": {
    "colab": {
      "provenance": []
    },
    "kernelspec": {
      "name": "python3",
      "display_name": "Python 3"
    },
    "language_info": {
      "name": "python"
    }
  },
  "cells": [
    {
      "cell_type": "code",
      "execution_count": 1,
      "metadata": {
        "id": "Y6CDKy0xw88V"
      },
      "outputs": [],
      "source": [
        "from __future__ import print_function\n",
        "import tensorflow as tf\n"
      ]
    },
    {
      "cell_type": "code",
      "source": [
        "#define tensor constants\n",
        "a=tf.constant(2)\n",
        "b=tf.constant(3)\n",
        "c=tf.constant(5)"
      ],
      "metadata": {
        "id": "tlgLyj8gxQuy"
      },
      "execution_count": 2,
      "outputs": []
    },
    {
      "cell_type": "code",
      "source": [
        "#operations\n",
        "add=tf.add(a,b)\n",
        "sub=tf.subtract(a,b)\n",
        "mul=tf.multiply(a,b)\n",
        "div=tf.divide(a,b)\n",
        "\n",
        "print(\"Add =\",add.numpy())\n",
        "print(\"sub =\",sub.numpy())\n",
        "print(\"mul =\",mul.numpy())\n",
        "print(\"div =\",div.numpy())\n"
      ],
      "metadata": {
        "colab": {
          "base_uri": "https://localhost:8080/"
        },
        "id": "XPxme5yOxhQS",
        "outputId": "fb7a5423-8d8d-44ed-a094-ff66612efd47"
      },
      "execution_count": 4,
      "outputs": [
        {
          "output_type": "stream",
          "name": "stdout",
          "text": [
            "Add = 5\n",
            "sub = -1\n",
            "mul = 6\n",
            "div = 0.6666666666666666\n"
          ]
        }
      ]
    },
    {
      "cell_type": "code",
      "source": [
        "#mean and sum\n",
        "mean = tf.reduce_mean([a,b,c])\n",
        "sum = tf.reduce_sum([a,b,c])\n",
        "print(\"mean =\", mean.numpy())\n",
        "print(\"sum = \",sum.numpy())\n"
      ],
      "metadata": {
        "colab": {
          "base_uri": "https://localhost:8080/"
        },
        "id": "5HGdkUjiyAz3",
        "outputId": "7278a1da-c6f2-48de-8c09-35faf45daa53"
      },
      "execution_count": 6,
      "outputs": [
        {
          "output_type": "stream",
          "name": "stdout",
          "text": [
            "mean = 3\n",
            "sum =  10\n"
          ]
        }
      ]
    },
    {
      "cell_type": "code",
      "source": [
        "#matrix multiplication\n",
        "matrix1 = tf.constant([[1,2],[3,4]])\n",
        "matrix2 = tf.constant([[5,6],[7,8]])\n",
        "product = tf.matmul(matrix1,matrix2)\n",
        "print(product)#display tensor"
      ],
      "metadata": {
        "colab": {
          "base_uri": "https://localhost:8080/"
        },
        "id": "HOoyctWHyzy7",
        "outputId": "363ab6de-807e-4435-e127-0d046f150800"
      },
      "execution_count": 7,
      "outputs": [
        {
          "output_type": "stream",
          "name": "stdout",
          "text": [
            "tf.Tensor(\n",
            "[[19 22]\n",
            " [43 50]], shape=(2, 2), dtype=int32)\n"
          ]
        }
      ]
    },
    {
      "cell_type": "code",
      "source": [
        "print(product.numpy())"
      ],
      "metadata": {
        "id": "8tcuxox3zEaA",
        "outputId": "f129b9c6-fd81-4eb8-b88e-8fd036a15c4d",
        "colab": {
          "base_uri": "https://localhost:8080/"
        }
      },
      "execution_count": 8,
      "outputs": [
        {
          "output_type": "stream",
          "name": "stdout",
          "text": [
            "[[19 22]\n",
            " [43 50]]\n"
          ]
        }
      ]
    }
  ]
}