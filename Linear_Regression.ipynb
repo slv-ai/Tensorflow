{
  "nbformat": 4,
  "nbformat_minor": 0,
  "metadata": {
    "colab": {
      "provenance": []
    },
    "kernelspec": {
      "name": "python3",
      "display_name": "Python 3"
    },
    "language_info": {
      "name": "python"
    }
  },
  "cells": [
    {
      "cell_type": "code",
      "execution_count": 9,
      "metadata": {
        "id": "Y6CDKy0xw88V"
      },
      "outputs": [],
      "source": [
        "from __future__ import print_function\n",
        "import tensorflow as tf\n",
        "import numpy as np\n"
      ]
    },
    {
      "cell_type": "code",
      "source": [
        "#paramters\n",
        "learning_rate = 0.01\n",
        "training_steps = 1000\n",
        "display_step = 50"
      ],
      "metadata": {
        "id": "8tcuxox3zEaA"
      },
      "execution_count": 10,
      "outputs": []
    },
    {
      "cell_type": "code",
      "source": [
        "# Training Data.\n",
        "X = np.array([3.3,4.4,5.5,6.71,6.93,4.168,9.779,6.182,7.59,2.167,\n",
        "              7.042,10.791,5.313,7.997,5.654,9.27,3.1])\n",
        "Y = np.array([1.7,2.76,2.09,3.19,1.694,1.573,3.366,2.596,2.53,1.221,\n",
        "              2.827,3.465,1.65,2.904,2.42,2.94,1.3])"
      ],
      "metadata": {
        "id": "H-2Zibv_8jIA"
      },
      "execution_count": 11,
      "outputs": []
    },
    {
      "cell_type": "code",
      "source": [
        "#weight and bias initialized randomly\n",
        "rng = np.random\n",
        "w=tf.Variable(rng.randn(),name=\"weight\")\n",
        "b=tf.Variable(rng.randn(),name=\"bias\")\n",
        "\n",
        "def linear_regression(x):\n",
        "  return tf.matmul(x,w) + b\n",
        "\n",
        "def mean_square_error(y_pred,y_true):\n",
        "  return tf.reduce_mean(tf.square(y_pred-y_true))\n",
        "\n",
        "#stochastic gradient descent optimizer\n",
        "optimizer=tf.optimizers.SGD(learning_rate)"
      ],
      "metadata": {
        "id": "AKd-jVbb86Rc"
      },
      "execution_count": 14,
      "outputs": []
    },
    {
      "cell_type": "code",
      "source": [
        "#optimization process\n",
        "def run_optimization():\n",
        "  with tf.GradientTape() as g:\n",
        "    pred=linear_regression(X)\n",
        "    loss=mean_square_error(pred,Y)\n",
        "  gradients=g.gradient(loss,[w,b])\n",
        "  #update w and b\n",
        "  optimizer.apply_gradients(zip(gradients,[w,b]))"
      ],
      "metadata": {
        "id": "OOYceIHd-P4y"
      },
      "execution_count": 16,
      "outputs": []
    },
    {
      "cell_type": "code",
      "source": [
        "for steps in range(1, training_steps+1):\n",
        "  run_optimization()\n",
        "  if steps % display_step == 0:\n",
        "    pred=linear_regression(X)\n",
        "    loss=mean_square_error(pred,Y)\n",
        "    print(\"step : %i,loss :%f,w : %f, b : %f \" %(steps,loss,w.numpy(),b.numpy()))"
      ],
      "metadata": {
        "colab": {
          "base_uri": "https://localhost:8080/"
        },
        "id": "ZKIrCo9dDB89",
        "outputId": "377aa38c-2027-4d04-d5f6-916163db511d"
      },
      "execution_count": 17,
      "outputs": [
        {
          "output_type": "stream",
          "name": "stdout",
          "text": [
            "step : 50,loss :0.466997,w : 0.475968, b : -0.791621 \n",
            "step : 100,loss :0.399429,w : 0.450296, b : -0.609619 \n",
            "step : 150,loss :0.346441,w : 0.427562, b : -0.448446 \n",
            "step : 200,loss :0.304886,w : 0.407430, b : -0.305716 \n",
            "step : 250,loss :0.272298,w : 0.389601, b : -0.179319 \n",
            "step : 300,loss :0.246741,w : 0.373813, b : -0.067387 \n",
            "step : 350,loss :0.226699,w : 0.359832, b : 0.031736 \n",
            "step : 400,loss :0.210982,w : 0.347450, b : 0.119516 \n",
            "step : 450,loss :0.198656,w : 0.336485, b : 0.197250 \n",
            "step : 500,loss :0.188989,w : 0.326775, b : 0.266089 \n",
            "step : 550,loss :0.181409,w : 0.318177, b : 0.327051 \n",
            "step : 600,loss :0.175464,w : 0.310562, b : 0.381036 \n",
            "step : 650,loss :0.170802,w : 0.303818, b : 0.428843 \n",
            "step : 700,loss :0.167146,w : 0.297847, b : 0.471180 \n",
            "step : 750,loss :0.164278,w : 0.292559, b : 0.508671 \n",
            "step : 800,loss :0.162030,w : 0.287875, b : 0.541873 \n",
            "step : 850,loss :0.160267,w : 0.283728, b : 0.571274 \n",
            "step : 900,loss :0.158884,w : 0.280056, b : 0.597312 \n",
            "step : 950,loss :0.157799,w : 0.276803, b : 0.620369 \n",
            "step : 1000,loss :0.156949,w : 0.273923, b : 0.640788 \n"
          ]
        }
      ]
    },
    {
      "cell_type": "code",
      "source": [
        "import matplotlib.pyplot as plt\n",
        "plt.plot(X,Y,'ro',label='Original Data')\n",
        "plt.plot(X,np.array(w*X+b),label='Fitted Line')\n",
        "plt.legend()\n",
        "plt.show()"
      ],
      "metadata": {
        "colab": {
          "base_uri": "https://localhost:8080/",
          "height": 430
        },
        "id": "lU3sk2KED68-",
        "outputId": "feaf2607-ed66-4cd3-d003-084c791b822d"
      },
      "execution_count": 18,
      "outputs": [
        {
          "output_type": "display_data",
          "data": {
            "text/plain": [
              "<Figure size 640x480 with 1 Axes>"
            ],
            "image/png": "[encoded data removed]"
          },
          "metadata": {}
        }
      ]
    }
  ]
}